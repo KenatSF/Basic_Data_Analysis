{
 "cells": [
  {
   "cell_type": "code",
   "execution_count": 1,
   "metadata": {},
   "outputs": [],
   "source": [
    "import pandas as pd"
   ]
  },
  {
   "cell_type": "code",
   "execution_count": 2,
   "metadata": {},
   "outputs": [],
   "source": [
    "df = pd.read_csv(\"sales_data_sample.csv\", encoding = \"ISO-8859-1\", engine='python')"
   ]
  },
  {
   "cell_type": "code",
   "execution_count": 3,
   "metadata": {
    "scrolled": true
   },
   "outputs": [
    {
     "data": {
      "text/html": [
       "<div>\n",
       "<style scoped>\n",
       "    .dataframe tbody tr th:only-of-type {\n",
       "        vertical-align: middle;\n",
       "    }\n",
       "\n",
       "    .dataframe tbody tr th {\n",
       "        vertical-align: top;\n",
       "    }\n",
       "\n",
       "    .dataframe thead th {\n",
       "        text-align: right;\n",
       "    }\n",
       "</style>\n",
       "<table border=\"1\" class=\"dataframe\">\n",
       "  <thead>\n",
       "    <tr style=\"text-align: right;\">\n",
       "      <th></th>\n",
       "      <th>ORDERNUMBER</th>\n",
       "      <th>QUANTITYORDERED</th>\n",
       "      <th>PRICEEACH</th>\n",
       "      <th>ORDERLINENUMBER</th>\n",
       "      <th>SALES</th>\n",
       "      <th>QTR_ID</th>\n",
       "      <th>MONTH_ID</th>\n",
       "      <th>YEAR_ID</th>\n",
       "      <th>MSRP</th>\n",
       "    </tr>\n",
       "  </thead>\n",
       "  <tbody>\n",
       "    <tr>\n",
       "      <td>count</td>\n",
       "      <td>2823.000000</td>\n",
       "      <td>2823.000000</td>\n",
       "      <td>2823.000000</td>\n",
       "      <td>2823.000000</td>\n",
       "      <td>2823.000000</td>\n",
       "      <td>2823.000000</td>\n",
       "      <td>2823.000000</td>\n",
       "      <td>2823.00000</td>\n",
       "      <td>2823.000000</td>\n",
       "    </tr>\n",
       "    <tr>\n",
       "      <td>mean</td>\n",
       "      <td>10258.725115</td>\n",
       "      <td>35.092809</td>\n",
       "      <td>83.658544</td>\n",
       "      <td>6.466171</td>\n",
       "      <td>3553.889072</td>\n",
       "      <td>2.717676</td>\n",
       "      <td>7.092455</td>\n",
       "      <td>2003.81509</td>\n",
       "      <td>100.715551</td>\n",
       "    </tr>\n",
       "    <tr>\n",
       "      <td>std</td>\n",
       "      <td>92.085478</td>\n",
       "      <td>9.741443</td>\n",
       "      <td>20.174277</td>\n",
       "      <td>4.225841</td>\n",
       "      <td>1841.865106</td>\n",
       "      <td>1.203878</td>\n",
       "      <td>3.656633</td>\n",
       "      <td>0.69967</td>\n",
       "      <td>40.187912</td>\n",
       "    </tr>\n",
       "    <tr>\n",
       "      <td>min</td>\n",
       "      <td>10100.000000</td>\n",
       "      <td>6.000000</td>\n",
       "      <td>26.880000</td>\n",
       "      <td>1.000000</td>\n",
       "      <td>482.130000</td>\n",
       "      <td>1.000000</td>\n",
       "      <td>1.000000</td>\n",
       "      <td>2003.00000</td>\n",
       "      <td>33.000000</td>\n",
       "    </tr>\n",
       "    <tr>\n",
       "      <td>25%</td>\n",
       "      <td>10180.000000</td>\n",
       "      <td>27.000000</td>\n",
       "      <td>68.860000</td>\n",
       "      <td>3.000000</td>\n",
       "      <td>2203.430000</td>\n",
       "      <td>2.000000</td>\n",
       "      <td>4.000000</td>\n",
       "      <td>2003.00000</td>\n",
       "      <td>68.000000</td>\n",
       "    </tr>\n",
       "    <tr>\n",
       "      <td>50%</td>\n",
       "      <td>10262.000000</td>\n",
       "      <td>35.000000</td>\n",
       "      <td>95.700000</td>\n",
       "      <td>6.000000</td>\n",
       "      <td>3184.800000</td>\n",
       "      <td>3.000000</td>\n",
       "      <td>8.000000</td>\n",
       "      <td>2004.00000</td>\n",
       "      <td>99.000000</td>\n",
       "    </tr>\n",
       "    <tr>\n",
       "      <td>75%</td>\n",
       "      <td>10333.500000</td>\n",
       "      <td>43.000000</td>\n",
       "      <td>100.000000</td>\n",
       "      <td>9.000000</td>\n",
       "      <td>4508.000000</td>\n",
       "      <td>4.000000</td>\n",
       "      <td>11.000000</td>\n",
       "      <td>2004.00000</td>\n",
       "      <td>124.000000</td>\n",
       "    </tr>\n",
       "    <tr>\n",
       "      <td>max</td>\n",
       "      <td>10425.000000</td>\n",
       "      <td>97.000000</td>\n",
       "      <td>100.000000</td>\n",
       "      <td>18.000000</td>\n",
       "      <td>14082.800000</td>\n",
       "      <td>4.000000</td>\n",
       "      <td>12.000000</td>\n",
       "      <td>2005.00000</td>\n",
       "      <td>214.000000</td>\n",
       "    </tr>\n",
       "  </tbody>\n",
       "</table>\n",
       "</div>"
      ],
      "text/plain": [
       "        ORDERNUMBER  QUANTITYORDERED    PRICEEACH  ORDERLINENUMBER  \\\n",
       "count   2823.000000      2823.000000  2823.000000      2823.000000   \n",
       "mean   10258.725115        35.092809    83.658544         6.466171   \n",
       "std       92.085478         9.741443    20.174277         4.225841   \n",
       "min    10100.000000         6.000000    26.880000         1.000000   \n",
       "25%    10180.000000        27.000000    68.860000         3.000000   \n",
       "50%    10262.000000        35.000000    95.700000         6.000000   \n",
       "75%    10333.500000        43.000000   100.000000         9.000000   \n",
       "max    10425.000000        97.000000   100.000000        18.000000   \n",
       "\n",
       "              SALES       QTR_ID     MONTH_ID     YEAR_ID         MSRP  \n",
       "count   2823.000000  2823.000000  2823.000000  2823.00000  2823.000000  \n",
       "mean    3553.889072     2.717676     7.092455  2003.81509   100.715551  \n",
       "std     1841.865106     1.203878     3.656633     0.69967    40.187912  \n",
       "min      482.130000     1.000000     1.000000  2003.00000    33.000000  \n",
       "25%     2203.430000     2.000000     4.000000  2003.00000    68.000000  \n",
       "50%     3184.800000     3.000000     8.000000  2004.00000    99.000000  \n",
       "75%     4508.000000     4.000000    11.000000  2004.00000   124.000000  \n",
       "max    14082.800000     4.000000    12.000000  2005.00000   214.000000  "
      ]
     },
     "execution_count": 3,
     "metadata": {},
     "output_type": "execute_result"
    }
   ],
   "source": [
    "quantitative_variables = df.describe().columns.tolist()\n",
    "df.describe()"
   ]
  },
  {
   "cell_type": "code",
   "execution_count": 4,
   "metadata": {},
   "outputs": [
    {
     "name": "stdout",
     "output_type": "stream",
     "text": [
      "Column:  ADDRESSLINE2   ; 2521  Missing values\n",
      "Column:  STATE   ; 1486  Missing values\n",
      "Column:  POSTALCODE   ; 76  Missing values\n",
      "Column:  TERRITORY   ; 1074  Missing values\n"
     ]
    }
   ],
   "source": [
    "# Are there missing values?\n",
    "\n",
    "nombres_columns = df.columns.tolist()\n",
    "n_rows = df.shape[0]\n",
    "n_columns = len(nombres_columns)\n",
    "\n",
    "for i in range(n_columns):\n",
    "    if(df.iloc[:, i].isnull().values.any()):\n",
    "        print(\"Column: \", nombres_columns[i], \"  ;\", df.iloc[:, i].isnull().sum(),\" Missing values\")"
   ]
  },
  {
   "cell_type": "code",
   "execution_count": 5,
   "metadata": {},
   "outputs": [
    {
     "name": "stdout",
     "output_type": "stream",
     "text": [
      "Total rows: 2823\n",
      "Total columns: 25\n"
     ]
    }
   ],
   "source": [
    "print(\"Total rows: {}\".format(n_rows))\n",
    "print(\"Total columns: {}\".format(n_columns))"
   ]
  },
  {
   "cell_type": "code",
   "execution_count": 6,
   "metadata": {},
   "outputs": [
    {
     "name": "stdout",
     "output_type": "stream",
     "text": [
      "ADDRESSLINE1\n",
      "ADDRESSLINE2\n",
      "CITY\n",
      "CONTACTFIRSTNAME\n",
      "CONTACTLASTNAME\n",
      "COUNTRY\n",
      "CUSTOMERNAME\n",
      "DEALSIZE\n",
      "ORDERDATE\n",
      "PHONE\n",
      "POSTALCODE\n",
      "PRODUCTCODE\n",
      "PRODUCTLINE\n",
      "STATE\n",
      "STATUS\n",
      "TERRITORY\n"
     ]
    }
   ],
   "source": [
    "qualitative_variables = list(set(nombres_columns) - set(quantitative_variables))\n",
    "for x in sorted(qualitative_variables):\n",
    "    print(x)"
   ]
  },
  {
   "cell_type": "code",
   "execution_count": 7,
   "metadata": {},
   "outputs": [
    {
     "data": {
      "text/plain": [
       "EMEA     1407\n",
       "APAC      221\n",
       "Japan     121\n",
       "Name: TERRITORY, dtype: int64"
      ]
     },
     "execution_count": 7,
     "metadata": {},
     "output_type": "execute_result"
    }
   ],
   "source": [
    "df.TERRITORY.value_counts()"
   ]
  },
  {
   "cell_type": "code",
   "execution_count": 8,
   "metadata": {},
   "outputs": [
    {
     "data": {
      "text/plain": [
       "1074"
      ]
     },
     "execution_count": 8,
     "metadata": {},
     "output_type": "execute_result"
    }
   ],
   "source": [
    "df.TERRITORY.isnull().sum()"
   ]
  },
  {
   "cell_type": "code",
   "execution_count": 9,
   "metadata": {},
   "outputs": [
    {
     "data": {
      "text/plain": [
       "USA       1004\n",
       "Canada      70\n",
       "Name: COUNTRY, dtype: int64"
      ]
     },
     "execution_count": 9,
     "metadata": {},
     "output_type": "execute_result"
    }
   ],
   "source": [
    "df.loc[pd.isnull(df.loc[:, 'TERRITORY'])].COUNTRY.value_counts()"
   ]
  },
  {
   "cell_type": "code",
   "execution_count": 10,
   "metadata": {},
   "outputs": [
    {
     "data": {
      "text/plain": [
       "Australia    185\n",
       "Singapore     36\n",
       "Name: COUNTRY, dtype: int64"
      ]
     },
     "execution_count": 10,
     "metadata": {},
     "output_type": "execute_result"
    }
   ],
   "source": [
    "df.loc[df.loc[:, 'TERRITORY'] == 'APAC'].COUNTRY.value_counts()"
   ]
  },
  {
   "cell_type": "code",
   "execution_count": 11,
   "metadata": {},
   "outputs": [
    {
     "data": {
      "text/plain": [
       "Japan          52\n",
       "Singapore      43\n",
       "Philippines    26\n",
       "Name: COUNTRY, dtype: int64"
      ]
     },
     "execution_count": 11,
     "metadata": {},
     "output_type": "execute_result"
    }
   ],
   "source": [
    "df.loc[df.loc[:, 'TERRITORY'] == 'Japan'].COUNTRY.value_counts()"
   ]
  },
  {
   "cell_type": "code",
   "execution_count": 12,
   "metadata": {},
   "outputs": [
    {
     "data": {
      "text/plain": [
       "(79, 25)"
      ]
     },
     "execution_count": 12,
     "metadata": {},
     "output_type": "execute_result"
    }
   ],
   "source": [
    "df.loc[df.loc[:, 'COUNTRY'] == 'Singapore'].shape"
   ]
  },
  {
   "cell_type": "code",
   "execution_count": 13,
   "metadata": {},
   "outputs": [],
   "source": [
    "def change_territory(col1, col2):\n",
    "    if(col1 == 'APAC' and col2 == 'Australia'):\n",
    "        return 'AUSTRALIA'\n",
    "    elif(col1 == 'APAC' and col2 == 'Singapore'):\n",
    "        return 'ASIA'\n",
    "    else:\n",
    "        return col1"
   ]
  },
  {
   "cell_type": "code",
   "execution_count": 14,
   "metadata": {},
   "outputs": [],
   "source": [
    "df['TERRITORY2'] = df['TERRITORY'].apply(lambda x: 'ASIA' if x == 'Japan' else x)\n",
    "df['TERRITORY2'] = df.apply(lambda x: change_territory(x.TERRITORY2, x.COUNTRY), axis=1)\n",
    "df['TERRITORY2'] = df['TERRITORY2'].apply(lambda x: 'NORTHAME' if pd.isnull(x) else x)"
   ]
  },
  {
   "cell_type": "code",
   "execution_count": 15,
   "metadata": {},
   "outputs": [
    {
     "data": {
      "text/plain": [
       "EMEA         1407\n",
       "NORTHAME     1074\n",
       "AUSTRALIA     185\n",
       "ASIA          157\n",
       "Name: TERRITORY2, dtype: int64"
      ]
     },
     "execution_count": 15,
     "metadata": {},
     "output_type": "execute_result"
    }
   ],
   "source": [
    "df.TERRITORY2.value_counts()"
   ]
  },
  {
   "cell_type": "code",
   "execution_count": 16,
   "metadata": {},
   "outputs": [
    {
     "data": {
      "text/plain": [
       "0"
      ]
     },
     "execution_count": 16,
     "metadata": {},
     "output_type": "execute_result"
    }
   ],
   "source": [
    "df.TERRITORY2.isnull().sum()"
   ]
  },
  {
   "cell_type": "code",
   "execution_count": 17,
   "metadata": {},
   "outputs": [],
   "source": [
    "# Get rid of variables that, for now, might not be relevant\n",
    "df_cleaned = df[df.columns.difference(['ADDRESSLINE2', 'STATE', 'POSTALCODE', 'TERRITORY'])]"
   ]
  },
  {
   "cell_type": "code",
   "execution_count": 18,
   "metadata": {},
   "outputs": [
    {
     "data": {
      "text/plain": [
       "(2823, 22)"
      ]
     },
     "execution_count": 18,
     "metadata": {},
     "output_type": "execute_result"
    }
   ],
   "source": [
    "df_cleaned.shape"
   ]
  },
  {
   "cell_type": "code",
   "execution_count": 19,
   "metadata": {},
   "outputs": [],
   "source": [
    "nombres_columns_c = df_cleaned.columns.tolist()\n",
    "n_rows_c = df_cleaned.shape[0]\n",
    "n_columns_c = len(nombres_columns_c)\n",
    "\n",
    "for i in range(n_columns_c):\n",
    "    if(df_cleaned.iloc[:, i].isnull().values.any()):\n",
    "        print(\"Column: \", nombres_columns_c[i], \"  ;\", df_cleaned.iloc[:, i].isnull().sum(),\" Missing values\")"
   ]
  },
  {
   "cell_type": "code",
   "execution_count": 20,
   "metadata": {},
   "outputs": [
    {
     "data": {
      "text/html": [
       "<div>\n",
       "<style scoped>\n",
       "    .dataframe tbody tr th:only-of-type {\n",
       "        vertical-align: middle;\n",
       "    }\n",
       "\n",
       "    .dataframe tbody tr th {\n",
       "        vertical-align: top;\n",
       "    }\n",
       "\n",
       "    .dataframe thead th {\n",
       "        text-align: right;\n",
       "    }\n",
       "</style>\n",
       "<table border=\"1\" class=\"dataframe\">\n",
       "  <thead>\n",
       "    <tr style=\"text-align: right;\">\n",
       "      <th></th>\n",
       "      <th>ADDRESSLINE1</th>\n",
       "      <th>CITY</th>\n",
       "      <th>CONTACTFIRSTNAME</th>\n",
       "      <th>CONTACTLASTNAME</th>\n",
       "      <th>COUNTRY</th>\n",
       "      <th>CUSTOMERNAME</th>\n",
       "      <th>DEALSIZE</th>\n",
       "      <th>MONTH_ID</th>\n",
       "      <th>MSRP</th>\n",
       "      <th>ORDERDATE</th>\n",
       "      <th>...</th>\n",
       "      <th>PHONE</th>\n",
       "      <th>PRICEEACH</th>\n",
       "      <th>PRODUCTCODE</th>\n",
       "      <th>PRODUCTLINE</th>\n",
       "      <th>QTR_ID</th>\n",
       "      <th>QUANTITYORDERED</th>\n",
       "      <th>SALES</th>\n",
       "      <th>STATUS</th>\n",
       "      <th>TERRITORY2</th>\n",
       "      <th>YEAR_ID</th>\n",
       "    </tr>\n",
       "  </thead>\n",
       "  <tbody>\n",
       "    <tr>\n",
       "      <td>0</td>\n",
       "      <td>897 Long Airport Avenue</td>\n",
       "      <td>NYC</td>\n",
       "      <td>Kwai</td>\n",
       "      <td>Yu</td>\n",
       "      <td>USA</td>\n",
       "      <td>Land of Toys Inc.</td>\n",
       "      <td>Small</td>\n",
       "      <td>2</td>\n",
       "      <td>95</td>\n",
       "      <td>2/24/2003 0:00</td>\n",
       "      <td>...</td>\n",
       "      <td>2125557818</td>\n",
       "      <td>95.70</td>\n",
       "      <td>S10_1678</td>\n",
       "      <td>Motorcycles</td>\n",
       "      <td>1</td>\n",
       "      <td>30</td>\n",
       "      <td>2871.00</td>\n",
       "      <td>Shipped</td>\n",
       "      <td>NORTHAME</td>\n",
       "      <td>2003</td>\n",
       "    </tr>\n",
       "    <tr>\n",
       "      <td>1</td>\n",
       "      <td>59 rue de l'Abbaye</td>\n",
       "      <td>Reims</td>\n",
       "      <td>Paul</td>\n",
       "      <td>Henriot</td>\n",
       "      <td>France</td>\n",
       "      <td>Reims Collectables</td>\n",
       "      <td>Small</td>\n",
       "      <td>5</td>\n",
       "      <td>95</td>\n",
       "      <td>5/7/2003 0:00</td>\n",
       "      <td>...</td>\n",
       "      <td>26.47.1555</td>\n",
       "      <td>81.35</td>\n",
       "      <td>S10_1678</td>\n",
       "      <td>Motorcycles</td>\n",
       "      <td>2</td>\n",
       "      <td>34</td>\n",
       "      <td>2765.90</td>\n",
       "      <td>Shipped</td>\n",
       "      <td>EMEA</td>\n",
       "      <td>2003</td>\n",
       "    </tr>\n",
       "    <tr>\n",
       "      <td>2</td>\n",
       "      <td>27 rue du Colonel Pierre Avia</td>\n",
       "      <td>Paris</td>\n",
       "      <td>Daniel</td>\n",
       "      <td>Da Cunha</td>\n",
       "      <td>France</td>\n",
       "      <td>Lyon Souveniers</td>\n",
       "      <td>Medium</td>\n",
       "      <td>7</td>\n",
       "      <td>95</td>\n",
       "      <td>7/1/2003 0:00</td>\n",
       "      <td>...</td>\n",
       "      <td>+33 1 46 62 7555</td>\n",
       "      <td>94.74</td>\n",
       "      <td>S10_1678</td>\n",
       "      <td>Motorcycles</td>\n",
       "      <td>3</td>\n",
       "      <td>41</td>\n",
       "      <td>3884.34</td>\n",
       "      <td>Shipped</td>\n",
       "      <td>EMEA</td>\n",
       "      <td>2003</td>\n",
       "    </tr>\n",
       "    <tr>\n",
       "      <td>3</td>\n",
       "      <td>78934 Hillside Dr.</td>\n",
       "      <td>Pasadena</td>\n",
       "      <td>Julie</td>\n",
       "      <td>Young</td>\n",
       "      <td>USA</td>\n",
       "      <td>Toys4GrownUps.com</td>\n",
       "      <td>Medium</td>\n",
       "      <td>8</td>\n",
       "      <td>95</td>\n",
       "      <td>8/25/2003 0:00</td>\n",
       "      <td>...</td>\n",
       "      <td>6265557265</td>\n",
       "      <td>83.26</td>\n",
       "      <td>S10_1678</td>\n",
       "      <td>Motorcycles</td>\n",
       "      <td>3</td>\n",
       "      <td>45</td>\n",
       "      <td>3746.70</td>\n",
       "      <td>Shipped</td>\n",
       "      <td>NORTHAME</td>\n",
       "      <td>2003</td>\n",
       "    </tr>\n",
       "    <tr>\n",
       "      <td>4</td>\n",
       "      <td>7734 Strong St.</td>\n",
       "      <td>San Francisco</td>\n",
       "      <td>Julie</td>\n",
       "      <td>Brown</td>\n",
       "      <td>USA</td>\n",
       "      <td>Corporate Gift Ideas Co.</td>\n",
       "      <td>Medium</td>\n",
       "      <td>10</td>\n",
       "      <td>95</td>\n",
       "      <td>10/10/2003 0:00</td>\n",
       "      <td>...</td>\n",
       "      <td>6505551386</td>\n",
       "      <td>100.00</td>\n",
       "      <td>S10_1678</td>\n",
       "      <td>Motorcycles</td>\n",
       "      <td>4</td>\n",
       "      <td>49</td>\n",
       "      <td>5205.27</td>\n",
       "      <td>Shipped</td>\n",
       "      <td>NORTHAME</td>\n",
       "      <td>2003</td>\n",
       "    </tr>\n",
       "  </tbody>\n",
       "</table>\n",
       "<p>5 rows × 22 columns</p>\n",
       "</div>"
      ],
      "text/plain": [
       "                    ADDRESSLINE1           CITY CONTACTFIRSTNAME  \\\n",
       "0        897 Long Airport Avenue            NYC             Kwai   \n",
       "1             59 rue de l'Abbaye          Reims             Paul   \n",
       "2  27 rue du Colonel Pierre Avia          Paris           Daniel   \n",
       "3             78934 Hillside Dr.       Pasadena            Julie   \n",
       "4                7734 Strong St.  San Francisco            Julie   \n",
       "\n",
       "  CONTACTLASTNAME COUNTRY              CUSTOMERNAME DEALSIZE  MONTH_ID  MSRP  \\\n",
       "0              Yu     USA         Land of Toys Inc.    Small         2    95   \n",
       "1         Henriot  France        Reims Collectables    Small         5    95   \n",
       "2        Da Cunha  France           Lyon Souveniers   Medium         7    95   \n",
       "3           Young     USA         Toys4GrownUps.com   Medium         8    95   \n",
       "4           Brown     USA  Corporate Gift Ideas Co.   Medium        10    95   \n",
       "\n",
       "         ORDERDATE  ...             PHONE  PRICEEACH PRODUCTCODE  PRODUCTLINE  \\\n",
       "0   2/24/2003 0:00  ...        2125557818      95.70    S10_1678  Motorcycles   \n",
       "1    5/7/2003 0:00  ...        26.47.1555      81.35    S10_1678  Motorcycles   \n",
       "2    7/1/2003 0:00  ...  +33 1 46 62 7555      94.74    S10_1678  Motorcycles   \n",
       "3   8/25/2003 0:00  ...        6265557265      83.26    S10_1678  Motorcycles   \n",
       "4  10/10/2003 0:00  ...        6505551386     100.00    S10_1678  Motorcycles   \n",
       "\n",
       "  QTR_ID QUANTITYORDERED    SALES   STATUS  TERRITORY2 YEAR_ID  \n",
       "0      1              30  2871.00  Shipped    NORTHAME    2003  \n",
       "1      2              34  2765.90  Shipped        EMEA    2003  \n",
       "2      3              41  3884.34  Shipped        EMEA    2003  \n",
       "3      3              45  3746.70  Shipped    NORTHAME    2003  \n",
       "4      4              49  5205.27  Shipped    NORTHAME    2003  \n",
       "\n",
       "[5 rows x 22 columns]"
      ]
     },
     "execution_count": 20,
     "metadata": {},
     "output_type": "execute_result"
    }
   ],
   "source": [
    "df_cleaned.head()"
   ]
  },
  {
   "cell_type": "code",
   "execution_count": 21,
   "metadata": {},
   "outputs": [],
   "source": [
    "df_cleaned.to_csv(\"data/sales.csv\", header=True, index=False)"
   ]
  }
 ],
 "metadata": {
  "hide_input": false,
  "kernelspec": {
   "display_name": "Python 3",
   "language": "python",
   "name": "python3"
  },
  "language_info": {
   "codemirror_mode": {
    "name": "ipython",
    "version": 3
   },
   "file_extension": ".py",
   "mimetype": "text/x-python",
   "name": "python",
   "nbconvert_exporter": "python",
   "pygments_lexer": "ipython3",
   "version": "3.7.4"
  }
 },
 "nbformat": 4,
 "nbformat_minor": 2
}
